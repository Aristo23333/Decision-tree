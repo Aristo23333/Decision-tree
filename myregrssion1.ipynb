{
 "cells": [
  {
   "cell_type": "code",
   "execution_count": 296,
   "id": "initial_id",
   "metadata": {
    "ExecuteTime": {
     "end_time": "2023-11-03T09:31:00.123140900Z",
     "start_time": "2023-11-03T09:31:00.043724600Z"
    },
    "collapsed": true
   },
   "outputs": [
    {
     "name": "stdout",
     "output_type": "stream",
     "text": [
      "[[ 7.4    0.7    0.    ...  0.56   9.4    5.   ]\n",
      " [ 7.8    0.88   0.    ...  0.68   9.8    5.   ]\n",
      " [ 7.8    0.76   0.04  ...  0.65   9.8    5.   ]\n",
      " ...\n",
      " [ 6.3    0.51   0.13  ...  0.75  11.     6.   ]\n",
      " [ 5.9    0.645  0.12  ...  0.71  10.2    5.   ]\n",
      " [ 6.     0.31   0.47  ...  0.66  11.     6.   ]]\n"
     ]
    }
   ],
   "source": [
    "#以下部分定义一个决策树模型实现对winequality-red.csv数据集的分类\n",
    "import pandas as pd\n",
    "data = pd.read_csv('winequality-red.csv',sep=';')\n",
    "import numpy as np\n",
    "data = np.array(data)\n",
    "import matplotlib.pyplot as plt\n",
    "print(data)"
   ]
  },
  {
   "cell_type": "code",
   "execution_count": 297,
   "id": "db71c3a110f05197",
   "metadata": {
    "ExecuteTime": {
     "end_time": "2023-11-03T09:31:00.184772800Z",
     "start_time": "2023-11-03T09:31:00.059364700Z"
    },
    "collapsed": false
   },
   "outputs": [
    {
     "name": "stdout",
     "output_type": "stream",
     "text": [
      "[  0   0   0  10  53 681 638 199  18   0]\n"
     ]
    }
   ],
   "source": [
    "#Count the sample size for different categories by the last column\n",
    "count = np.array([0]*10)\n",
    "for i in range(len(data)):\n",
    "    count[int(data[i][-1])] = count[int(data[i][-1])] + 1\n",
    "#打印每个类别的样本数量->仅仅针对较多的类别进行预测\n",
    "print(count)"
   ]
  },
  {
   "cell_type": "code",
   "execution_count": 298,
   "metadata": {},
   "outputs": [
    {
     "name": "stdout",
     "output_type": "stream",
     "text": [
      "[[ 7.4    0.7    0.    ...  0.56   9.4    5.   ]\n",
      " [ 7.8    0.88   0.    ...  0.68   9.8    5.   ]\n",
      " [ 7.8    0.76   0.04  ...  0.65   9.8    5.   ]\n",
      " ...\n",
      " [ 6.3    0.51   0.13  ...  0.75  11.     6.   ]\n",
      " [ 5.9    0.645  0.12  ...  0.71  10.2    5.   ]\n",
      " [ 6.     0.31   0.47  ...  0.66  11.     6.   ]]\n",
      "[[ 7.3   0.65  0.   ...  0.47 10.    7.  ]\n",
      " [ 7.8   0.58  0.02 ...  0.57  9.5   7.  ]\n",
      " [ 8.5   0.28  0.56 ...  0.75 10.5   7.  ]\n",
      " ...\n",
      " [ 7.4   0.36  0.3  ...  0.7  11.4   8.  ]\n",
      " [ 7.    0.56  0.17 ...  0.68 10.55  7.  ]\n",
      " [ 6.7   0.32  0.44 ...  0.8  11.6   7.  ]]\n",
      "1319\n",
      "280\n"
     ]
    }
   ],
   "source": [
    "#把导入的数据集根据最后一列的值进行分类，5,6合并为一类，其余的为一类，分为两个新的数据集\n",
    "data1 = []\n",
    "data2 = []\n",
    "for i in range(len(data)):\n",
    "    if data[i][-1] == 5 or data[i][-1] == 6:\n",
    "        data1.append(data[i])\n",
    "    else:\n",
    "        data2.append(data[i])\n",
    "data1 = np.array(data1)\n",
    "data2 = np.array(data2)\n",
    "print(data1)\n",
    "print(data2)\n",
    "print(len(data1))\n",
    "print(len(data2))"
   ]
  },
  {
   "cell_type": "code",
   "execution_count": 299,
   "id": "4e7fc2d66d80f076",
   "metadata": {
    "ExecuteTime": {
     "end_time": "2023-11-03T09:31:00.184772800Z",
     "start_time": "2023-11-03T09:31:00.074973500Z"
    },
    "collapsed": false
   },
   "outputs": [
    {
     "name": "stdout",
     "output_type": "stream",
     "text": [
      "[[ 7.3    0.34   0.33  ...  0.77  12.1    7.   ]\n",
      " [ 9.6    0.33   0.52  ...  0.76  12.4    7.   ]\n",
      " [10.     0.26   0.54  ...  0.63  11.8    8.   ]\n",
      " ...\n",
      " [ 7.7    0.915  0.12  ...  0.65  10.2    7.   ]\n",
      " [ 8.9    0.38   0.4   ...  0.75  12.6    7.   ]\n",
      " [ 6.8    0.59   0.06  ...  0.59  10.8    7.   ]] 224\n",
      "[[1.0500e+01 5.1000e-01 6.4000e-01 2.4000e+00 1.0700e-01 6.0000e+00\n",
      "  1.5000e+01 9.9730e-01 3.0900e+00 6.6000e-01 1.1800e+01 7.0000e+00]\n",
      " [1.1100e+01 3.1000e-01 5.3000e-01 2.2000e+00 6.0000e-02 3.0000e+00\n",
      "  1.0000e+01 9.9572e-01 3.0200e+00 8.3000e-01 1.0900e+01 7.0000e+00]\n",
      " [1.1600e+01 5.8000e-01 6.6000e-01 2.2000e+00 7.4000e-02 1.0000e+01\n",
      "  4.7000e+01 1.0008e+00 3.2500e+00 5.7000e-01 9.0000e+00 3.0000e+00]\n",
      " [8.3000e+00 6.7500e-01 2.6000e-01 2.1000e+00 8.4000e-02 1.1000e+01\n",
      "  4.3000e+01 9.9760e-01 3.3100e+00 5.3000e-01 9.2000e+00 4.0000e+00]\n",
      " [7.7000e+00 2.7000e-01 6.8000e-01 3.5000e+00 3.5800e-01 5.0000e+00\n",
      "  1.0000e+01 9.9720e-01 3.2500e+00 1.0800e+00 9.9000e+00 7.0000e+00]\n",
      " [1.2800e+01 3.0000e-01 7.4000e-01 2.6000e+00 9.5000e-02 9.0000e+00\n",
      "  2.8000e+01 9.9940e-01 3.2000e+00 7.7000e-01 1.0800e+01 7.0000e+00]\n",
      " [5.4000e+00 8.3500e-01 8.0000e-02 1.2000e+00 4.6000e-02 1.3000e+01\n",
      "  9.3000e+01 9.9240e-01 3.5700e+00 8.5000e-01 1.3000e+01 7.0000e+00]\n",
      " [7.1000e+00 6.6000e-01 0.0000e+00 2.4000e+00 5.2000e-02 6.0000e+00\n",
      "  1.1000e+01 9.9318e-01 3.3500e+00 6.6000e-01 1.2700e+01 7.0000e+00]\n",
      " [5.3000e+00 5.7000e-01 1.0000e-02 1.7000e+00 5.4000e-02 5.0000e+00\n",
      "  2.7000e+01 9.9340e-01 3.5700e+00 8.4000e-01 1.2500e+01 7.0000e+00]\n",
      " [7.7000e+00 5.8000e-01 1.0000e-02 1.8000e+00 8.8000e-02 1.2000e+01\n",
      "  1.8000e+01 9.9568e-01 3.3200e+00 5.6000e-01 1.0500e+01 7.0000e+00]\n",
      " [1.0200e+01 4.9000e-01 6.3000e-01 2.9000e+00 7.2000e-02 1.0000e+01\n",
      "  2.6000e+01 9.9680e-01 3.1600e+00 7.8000e-01 1.2500e+01 7.0000e+00]\n",
      " [8.3000e+00 8.4500e-01 1.0000e-02 2.2000e+00 7.0000e-02 5.0000e+00\n",
      "  1.4000e+01 9.9670e-01 3.3200e+00 5.8000e-01 1.1000e+01 4.0000e+00]\n",
      " [1.0200e+01 4.4000e-01 5.8000e-01 4.1000e+00 9.2000e-02 1.1000e+01\n",
      "  2.4000e+01 9.9745e-01 3.2900e+00 9.9000e-01 1.2000e+01 7.0000e+00]\n",
      " [1.2000e+01 6.3000e-01 5.0000e-01 1.4000e+00 7.1000e-02 6.0000e+00\n",
      "  2.6000e+01 9.9791e-01 3.0700e+00 6.0000e-01 1.0400e+01 4.0000e+00]\n",
      " [6.6000e+00 8.4000e-01 3.0000e-02 2.3000e+00 5.9000e-02 3.2000e+01\n",
      "  4.8000e+01 9.9520e-01 3.5200e+00 5.6000e-01 1.2300e+01 7.0000e+00]\n",
      " [8.3000e+00 6.2500e-01 2.0000e-01 1.5000e+00 8.0000e-02 2.7000e+01\n",
      "  1.1900e+02 9.9720e-01 3.1600e+00 1.1200e+00 9.1000e+00 4.0000e+00]\n",
      " [1.2900e+01 3.5000e-01 4.9000e-01 5.8000e+00 6.6000e-02 5.0000e+00\n",
      "  3.5000e+01 1.0014e+00 3.2000e+00 6.6000e-01 1.2000e+01 7.0000e+00]\n",
      " [8.9000e+00 4.8000e-01 5.3000e-01 4.0000e+00 1.0100e-01 3.0000e+00\n",
      "  1.0000e+01 9.9586e-01 3.2100e+00 5.9000e-01 1.2100e+01 7.0000e+00]\n",
      " [6.7000e+00 3.2000e-01 4.4000e-01 2.4000e+00 6.1000e-02 2.4000e+01\n",
      "  3.4000e+01 9.9484e-01 3.2900e+00 8.0000e-01 1.1600e+01 7.0000e+00]\n",
      " [1.2800e+01 6.1500e-01 6.6000e-01 5.8000e+00 8.3000e-02 7.0000e+00\n",
      "  4.2000e+01 1.0022e+00 3.0700e+00 7.3000e-01 1.0000e+01 7.0000e+00]\n",
      " [8.3000e+00 3.1000e-01 3.9000e-01 2.4000e+00 7.8000e-02 1.7000e+01\n",
      "  4.3000e+01 9.9444e-01 3.3100e+00 7.7000e-01 1.2500e+01 7.0000e+00]\n",
      " [8.0000e+00 3.1000e-01 4.5000e-01 2.1000e+00 2.1600e-01 5.0000e+00\n",
      "  1.6000e+01 9.9358e-01 3.1500e+00 8.1000e-01 1.2500e+01 7.0000e+00]\n",
      " [8.9000e+00 4.8000e-01 5.3000e-01 4.0000e+00 1.0100e-01 3.0000e+00\n",
      "  1.0000e+01 9.9586e-01 3.2100e+00 5.9000e-01 1.2100e+01 7.0000e+00]\n",
      " [7.4000e+00 5.9000e-01 8.0000e-02 4.4000e+00 8.6000e-02 6.0000e+00\n",
      "  2.9000e+01 9.9740e-01 3.3800e+00 5.0000e-01 9.0000e+00 4.0000e+00]\n",
      " [8.2000e+00 7.8000e-01 0.0000e+00 2.2000e+00 8.9000e-02 1.3000e+01\n",
      "  2.6000e+01 9.9780e-01 3.3700e+00 4.6000e-01 9.6000e+00 4.0000e+00]\n",
      " [8.2000e+00 3.1000e-01 4.0000e-01 2.2000e+00 5.8000e-02 6.0000e+00\n",
      "  1.0000e+01 9.9536e-01 3.3100e+00 6.8000e-01 1.1200e+01 7.0000e+00]\n",
      " [8.5000e+00 3.2000e-01 4.2000e-01 2.3000e+00 7.5000e-02 1.2000e+01\n",
      "  1.9000e+01 9.9434e-01 3.1400e+00 7.1000e-01 1.1800e+01 7.0000e+00]\n",
      " [7.7000e+00 2.8000e-01 3.0000e-01 2.0000e+00 6.2000e-02 1.8000e+01\n",
      "  3.4000e+01 9.9520e-01 3.2800e+00 9.0000e-01 1.1300e+01 7.0000e+00]\n",
      " [1.1900e+01 4.3000e-01 6.6000e-01 3.1000e+00 1.0900e-01 1.0000e+01\n",
      "  2.3000e+01 1.0000e+00 3.1500e+00 8.5000e-01 1.0400e+01 7.0000e+00]\n",
      " [8.7000e+00 4.8000e-01 3.0000e-01 2.8000e+00 6.6000e-02 1.0000e+01\n",
      "  2.8000e+01 9.9640e-01 3.3300e+00 6.7000e-01 1.1200e+01 7.0000e+00]\n",
      " [6.6000e+00 8.1500e-01 2.0000e-02 2.7000e+00 7.2000e-02 1.7000e+01\n",
      "  3.4000e+01 9.9550e-01 3.5800e+00 8.9000e-01 1.2300e+01 7.0000e+00]\n",
      " [1.0500e+01 4.2000e-01 6.6000e-01 2.9500e+00 1.1600e-01 1.2000e+01\n",
      "  2.9000e+01 9.9700e-01 3.2400e+00 7.5000e-01 1.1700e+01 7.0000e+00]\n",
      " [7.2000e+00 3.8000e-01 3.1000e-01 2.0000e+00 5.6000e-02 1.5000e+01\n",
      "  2.9000e+01 9.9472e-01 3.2300e+00 7.6000e-01 1.1300e+01 8.0000e+00]\n",
      " [1.1600e+01 5.3000e-01 6.6000e-01 3.6500e+00 1.2100e-01 6.0000e+00\n",
      "  1.4000e+01 9.9780e-01 3.0500e+00 7.4000e-01 1.1500e+01 7.0000e+00]\n",
      " [8.4000e+00 3.7000e-01 4.3000e-01 2.3000e+00 6.3000e-02 1.2000e+01\n",
      "  1.9000e+01 9.9550e-01 3.1700e+00 8.1000e-01 1.1200e+01 7.0000e+00]\n",
      " [7.3000e+00 3.5000e-01 2.4000e-01 2.0000e+00 6.7000e-02 2.8000e+01\n",
      "  4.8000e+01 9.9576e-01 3.4300e+00 5.4000e-01 1.0000e+01 4.0000e+00]\n",
      " [7.1000e+00 8.7500e-01 5.0000e-02 5.7000e+00 8.2000e-02 3.0000e+00\n",
      "  1.4000e+01 9.9808e-01 3.4000e+00 5.2000e-01 1.0200e+01 3.0000e+00]\n",
      " [6.7000e+00 7.6000e-01 2.0000e-02 1.8000e+00 7.8000e-02 6.0000e+00\n",
      "  1.2000e+01 9.9600e-01 3.5500e+00 6.3000e-01 9.9500e+00 3.0000e+00]\n",
      " [9.3000e+00 3.3000e-01 4.5000e-01 1.5000e+00 5.7000e-02 1.9000e+01\n",
      "  3.7000e+01 9.9498e-01 3.1800e+00 8.9000e-01 1.1100e+01 7.0000e+00]\n",
      " [7.7000e+00 5.8000e-01 1.0000e-02 1.8000e+00 8.8000e-02 1.2000e+01\n",
      "  1.8000e+01 9.9568e-01 3.3200e+00 5.6000e-01 1.0500e+01 7.0000e+00]\n",
      " [5.6000e+00 6.2000e-01 3.0000e-02 1.5000e+00 8.0000e-02 6.0000e+00\n",
      "  1.3000e+01 9.9498e-01 3.6600e+00 6.2000e-01 1.0100e+01 4.0000e+00]\n",
      " [6.8000e+00 5.9000e-01 6.0000e-02 6.0000e+00 6.0000e-02 1.1000e+01\n",
      "  1.8000e+01 9.9620e-01 3.4100e+00 5.9000e-01 1.0800e+01 7.0000e+00]\n",
      " [8.8000e+00 6.1000e-01 3.0000e-01 2.8000e+00 8.8000e-02 1.7000e+01\n",
      "  4.6000e+01 9.9760e-01 3.2600e+00 5.1000e-01 9.3000e+00 4.0000e+00]\n",
      " [7.5000e+00 4.3000e-01 3.0000e-01 2.2000e+00 6.2000e-02 6.0000e+00\n",
      "  1.2000e+01 9.9495e-01 3.4400e+00 7.2000e-01 1.1500e+01 7.0000e+00]\n",
      " [8.0000e+00 8.3000e-01 2.7000e-01 2.0000e+00 8.0000e-02 1.1000e+01\n",
      "  6.3000e+01 9.9652e-01 3.2900e+00 4.8000e-01 9.8000e+00 4.0000e+00]\n",
      " [7.5000e+00 7.5500e-01 0.0000e+00 1.9000e+00 8.4000e-02 6.0000e+00\n",
      "  1.2000e+01 9.9672e-01 3.3400e+00 4.9000e-01 9.7000e+00 4.0000e+00]\n",
      " [8.9000e+00 1.2000e-01 4.5000e-01 1.8000e+00 7.5000e-02 1.0000e+01\n",
      "  2.1000e+01 9.9552e-01 3.4100e+00 7.6000e-01 1.1900e+01 7.0000e+00]\n",
      " [9.1000e+00 2.9000e-01 3.3000e-01 2.0500e+00 6.3000e-02 1.3000e+01\n",
      "  2.7000e+01 9.9516e-01 3.2600e+00 8.4000e-01 1.1700e+01 7.0000e+00]\n",
      " [5.0000e+00 4.2000e-01 2.4000e-01 2.0000e+00 6.0000e-02 1.9000e+01\n",
      "  5.0000e+01 9.9170e-01 3.7200e+00 7.4000e-01 1.4000e+01 8.0000e+00]\n",
      " [7.9000e+00 3.0000e-01 6.8000e-01 8.3000e+00 5.0000e-02 3.7500e+01\n",
      "  2.8900e+02 9.9316e-01 3.0100e+00 5.1000e-01 1.2300e+01 7.0000e+00]\n",
      " [1.2000e+01 3.7000e-01 7.6000e-01 4.2000e+00 6.6000e-02 7.0000e+00\n",
      "  3.8000e+01 1.0004e+00 3.2200e+00 6.0000e-01 1.3000e+01 7.0000e+00]\n",
      " [1.1600e+01 3.2000e-01 5.5000e-01 2.8000e+00 8.1000e-02 3.5000e+01\n",
      "  6.7000e+01 1.0002e+00 3.3200e+00 9.2000e-01 1.0800e+01 7.0000e+00]\n",
      " [1.3300e+01 2.9000e-01 7.5000e-01 2.8000e+00 8.4000e-02 2.3000e+01\n",
      "  4.3000e+01 9.9860e-01 3.0400e+00 6.8000e-01 1.1400e+01 7.0000e+00]\n",
      " [1.1100e+01 3.1000e-01 5.3000e-01 2.2000e+00 6.0000e-02 3.0000e+00\n",
      "  1.0000e+01 9.9572e-01 3.0200e+00 8.3000e-01 1.0900e+01 7.0000e+00]\n",
      " [9.2000e+00 3.1000e-01 3.6000e-01 2.2000e+00 7.9000e-02 1.1000e+01\n",
      "  3.1000e+01 9.9615e-01 3.3300e+00 8.6000e-01 1.2000e+01 7.0000e+00]\n",
      " [1.0000e+01 4.4000e-01 4.9000e-01 2.7000e+00 7.7000e-02 1.1000e+01\n",
      "  1.9000e+01 9.9630e-01 3.2300e+00 6.3000e-01 1.1600e+01 7.0000e+00]] 56\n",
      "12\n"
     ]
    }
   ],
   "source": [
    "#划分数据集为1:4,使用numpy的random.shuffle()函数\n",
    "np.random.shuffle(data2)\n",
    "train_data = data2[:int(len(data2)*0.8)]\n",
    "test_data = data2[int(len(data2)*0.8):]\n",
    "print(train_data,len(train_data))\n",
    "print(test_data,len(test_data))\n",
    "n = train_data.shape[1]\n",
    "print(n)"
   ]
  },
  {
   "cell_type": "code",
   "execution_count": 300,
   "id": "a14054c2ea798d6",
   "metadata": {
    "ExecuteTime": {
     "end_time": "2023-11-03T09:31:00.184772800Z",
     "start_time": "2023-11-03T09:31:00.090600300Z"
    },
    "collapsed": false
   },
   "outputs": [
    {
     "name": "stdout",
     "output_type": "stream",
     "text": [
      "11\n",
      "[7. 7. 8. 7. 7. 4. 4. 7. 7. 7. 8. 8. 7. 4. 7. 7. 7. 7. 4. 7. 7. 7. 4. 7.\n",
      " 7. 7. 7. 4. 7. 7. 7. 7. 8. 7. 7. 7. 7. 4. 4. 7. 3. 7. 7. 7. 7. 7. 4. 7.\n",
      " 4. 7. 3. 7. 4. 7. 4. 7. 4. 4. 7. 7. 7. 4. 7. 7. 3. 7. 8. 7. 7. 7. 7. 7.\n",
      " 7. 4. 7. 4. 4. 4. 7. 7. 7. 7. 7. 7. 7. 4. 7. 4. 7. 4. 7. 7. 4. 7. 8. 7.\n",
      " 8. 7. 7. 7. 7. 7. 7. 7. 7. 7. 4. 7. 7. 7. 7. 7. 7. 7. 7. 7. 7. 4. 7. 4.\n",
      " 7. 7. 7. 7. 7. 7. 7. 7. 7. 7. 7. 4. 7. 7. 7. 4. 7. 7. 7. 8. 7. 7. 7. 7.\n",
      " 7. 7. 7. 8. 7. 7. 8. 7. 7. 7. 7. 7. 7. 4. 7. 3. 7. 7. 8. 7. 7. 7. 7. 7.\n",
      " 3. 7. 3. 4. 4. 4. 4. 7. 4. 8. 4. 7. 7. 7. 7. 7. 7. 7. 4. 7. 3. 7. 7. 7.\n",
      " 7. 7. 7. 7. 7. 7. 7. 8. 7. 7. 4. 7. 7. 7. 4. 4. 7. 4. 7. 7. 8. 4. 7. 7.\n",
      " 7. 7. 4. 8. 8. 7. 7. 7.]\n"
     ]
    }
   ],
   "source": [
    "#定义feature项为前11列，label项为最后一列\n",
    "train_feature = train_data[:,:-1]\n",
    "#再次切分出train_feature的前8列为train_feature1\n",
    "train_label = train_data[:,-1]\n",
    "test_feature = test_data[:,:-1]\n",
    "test_label = test_data[:,-1]\n",
    "#print(train_feature)\n",
    "#获取列数\n",
    "n = train_feature.shape[1]\n",
    "print(n)\n",
    "print(train_label)"
   ]
  },
  {
   "cell_type": "code",
   "execution_count": 301,
   "id": "4fd1a998",
   "metadata": {
    "ExecuteTime": {
     "end_time": "2023-11-03T09:31:00.184772800Z",
     "start_time": "2023-11-03T09:31:00.108759Z"
    }
   },
   "outputs": [
    {
     "name": "stdout",
     "output_type": "stream",
     "text": [
      "11\n"
     ]
    }
   ],
   "source": [
    "#给前11列添加一个标签，用于后续的决策树的构建\n",
    "feature_label = ['fixed acidity','volatile acidity','citric acid','residual sugar','chlorides','free sulfur dioxide','total sulfur dioxide','density','pH','sulphates','alcohol']\n",
    "print(len(feature_label))"
   ]
  },
  {
   "cell_type": "code",
   "execution_count": 302,
   "id": "900037e4",
   "metadata": {
    "ExecuteTime": {
     "end_time": "2023-11-03T09:31:00.200477400Z",
     "start_time": "2023-11-03T09:31:00.123140900Z"
    }
   },
   "outputs": [],
   "source": [
    "# #将训练集和测试集标准化\n",
    "\n",
    "# train_feature = (train_feature - np.mean(train_feature,axis=0))/np.std(train_feature,axis=0)\n",
    "# test_feature = (test_feature - np.mean(test_feature,axis=0))/np.std(test_feature,axis=0)\n",
    "# print(train_feature)\n",
    "# print(test_feature)\n",
    "# #打印数据的形状\n",
    "# print(train_feature.shape)\n",
    "# print(test_feature.shape)"
   ]
  },
  {
   "cell_type": "code",
   "execution_count": 303,
   "id": "ef2facc0",
   "metadata": {},
   "outputs": [
    {
     "data": {
      "image/png": "[encoded data removed]",
      "text/plain": [
       "<Figure size 640x480 with 11 Axes>"
      ]
     },
     "metadata": {},
     "output_type": "display_data"
    },
    {
     "data": {
      "image/png": "[encoded data removed]",
      "text/plain": [
       "<Figure size 640x480 with 11 Axes>"
      ]
     },
     "metadata": {},
     "output_type": "display_data"
    },
    {
     "name": "stdout",
     "output_type": "stream",
     "text": [
      "[[5. 0. 0. ... 3. 1. 8.]\n",
      " [7. 0. 0. ... 3. 1. 8.]\n",
      " [7. 0. 1. ... 3. 1. 8.]\n",
      " ...\n",
      " [5. 1. 0. ... 3. 1. 7.]\n",
      " [6. 0. 0. ... 3. 1. 8.]\n",
      " [5. 1. 0. ... 3. 1. 7.]]\n"
     ]
    }
   ],
   "source": [
    "#利用直方均衡化的方案放大特征的差异\n",
    "def histogram_equalization(data):\n",
    "    # 统计每一列特征的直方分布\n",
    "    hist, bins = np.histogram(data, bins='auto')\n",
    "\n",
    "    # 计算累积分布函数\n",
    "    cdf = hist.cumsum()\n",
    "    cdf_normalized = cdf / cdf[-1]\n",
    "\n",
    "    # 根据累积分布函数进行直方均衡化\n",
    "    equalized_data = np.interp(data, bins[:-1], cdf_normalized)\n",
    "    return equalized_data\n",
    "\n",
    "#保存直方均衡化前的数据\n",
    "original_train_feature = train_feature\n",
    "original_test_feature = test_feature\n",
    "\n",
    "#对训练集和测试集进行直方均衡化\n",
    "train_feature = histogram_equalization(train_feature)\n",
    "test_feature = histogram_equalization(test_feature)\n",
    "\n",
    "#把区间[0,1]的数据映射到[0,100]的整数区间\n",
    "#计算区间缩放比例->可以调制的超参数\n",
    "scale = 10/(np.max(train_feature)-np.min(train_feature))\n",
    "train_feature = (train_feature-np.min(train_feature))*scale\n",
    "test_feature = (test_feature-np.min(test_feature))*scale\n",
    "# train_feature = train_feature*50\n",
    "# test_feature = test_feature*50\n",
    "\n",
    "#把均衡化后的数据取整\n",
    "train_feature = np.round(train_feature)\n",
    "test_feature = np.round(test_feature)\n",
    "\n",
    "#绘制前后的直方图\n",
    "for i in range(len(train_feature[0])):\n",
    "    plt.subplot(2,6,i+1)\n",
    "    plt.hist(original_train_feature[:,i],bins='auto')\n",
    "    plt.title(feature_label[i])\n",
    "plt.show()\n",
    "for i in range(len(train_feature[0])):\n",
    "    plt.subplot(2,6,i+1)\n",
    "    plt.hist(train_feature[:,i],bins='auto')\n",
    "    plt.title(feature_label[i])\n",
    "plt.show()\n",
    "#打印数据\n",
    "print(train_feature)\n",
    "\n",
    "\n"
   ]
  },
  {
   "cell_type": "code",
   "execution_count": 304,
   "id": "b283883b",
   "metadata": {
    "ExecuteTime": {
     "end_time": "2023-11-03T09:31:00.200477400Z",
     "start_time": "2023-11-03T09:31:00.137653300Z"
    }
   },
   "outputs": [
    {
     "name": "stdout",
     "output_type": "stream",
     "text": [
      "[[5. 2. 3. ... 9. 4. 9.]\n",
      " [6. 2. 5. ... 9. 4. 9.]\n",
      " [6. 2. 5. ... 8. 3. 8.]\n",
      " ...\n",
      " [5. 6. 1. ... 9. 3. 7.]\n",
      " [6. 2. 4. ... 8. 4. 9.]\n",
      " [4. 4. 1. ... 9. 3. 8.]]\n",
      "[[ 9. 10. 10.  6. nan  4.  9. 10. 10. 10. 10.]\n",
      " [ 9.  0. 10.  6. nan  3.  8. 10. 10. 10.  9.]\n",
      " [10. 10. 10.  6. nan  8. 10. 10. 10. 10.  8.]\n",
      " [ 6. 10.  0.  6. nan  8. 10. 10. 10. 10.  8.]\n",
      " [ 6.  0. 10.  6. nan  4.  8. 10. 10. 10.  9.]\n",
      " [10.  0. 10.  6. nan  7. 10. 10. 10. 10.  9.]\n",
      " [ 5. 10.  0.  4. nan  9. 10. 10. 10. 10. 10.]\n",
      " [ 6. 10.  0.  6. nan  4.  8. 10. 10. 10. 10.]\n",
      " [ 5. 10.  0.  4. nan  4. 10. 10. 10. 10. 10.]\n",
      " [ 6. 10.  0.  4. nan  9.  9. 10. 10. 10.  9.]\n",
      " [ 9. 10. 10.  6. nan  8. 10. 10. 10. 10. 10.]\n",
      " [ 6. 10.  0.  6. nan  4.  9. 10. 10. 10.  9.]\n",
      " [ 9. 10. 10.  6. nan  8.  9. 10. 10. 10. 10.]\n",
      " [10. 10. 10.  4. nan  4. 10. 10. 10. 10.  9.]\n",
      " [ 5. 10.  0.  6. nan 10. 10. 10. 10. 10. 10.]\n",
      " [ 6. 10.  0.  4. nan 10. 10. 10. 10. 10.  8.]\n",
      " [10.  0. 10.  8. nan  4. 10. 10. 10. 10. 10.]\n",
      " [ 8. 10. 10.  6. nan  3.  8. 10. 10. 10. 10.]\n",
      " [ 5.  0. 10.  6. nan  9. 10. 10. 10. 10. 10.]\n",
      " [10. 10. 10.  8. nan  6. 10. 10. 10. 10.  9.]\n",
      " [ 6.  0.  0.  6. nan  9. 10. 10. 10. 10. 10.]\n",
      " [ 6.  0. 10.  6. nan  4.  9. 10. 10. 10. 10.]\n",
      " [ 8. 10. 10.  6. nan  3.  8. 10. 10. 10. 10.]\n",
      " [ 6. 10.  0.  6. nan  4. 10. 10. 10. 10.  8.]\n",
      " [ 6. 10.  0.  6. nan  9. 10. 10. 10. 10.  8.]\n",
      " [ 6.  0. 10.  6. nan  4.  8. 10. 10. 10. 10.]\n",
      " [ 8.  0. 10.  6. nan  9.  9. 10. 10. 10. 10.]\n",
      " [ 6.  0.  0.  6. nan  9. 10. 10. 10. 10. 10.]\n",
      " [10. 10. 10.  6. nan  8.  9. 10. 10. 10.  9.]\n",
      " [ 8. 10.  0.  6. nan  8. 10. 10. 10. 10. 10.]\n",
      " [ 5. 10.  0.  6. nan  9. 10. 10. 10. 10. 10.]\n",
      " [ 9. 10. 10.  6. nan  9. 10. 10. 10. 10. 10.]\n",
      " [ 6.  0.  0.  6. nan  9. 10. 10. 10. 10. 10.]\n",
      " [10. 10. 10.  6. nan  4.  9. 10. 10. 10. 10.]\n",
      " [ 6.  0. 10.  6. nan  9.  9. 10. 10. 10. 10.]\n",
      " [ 6.  0.  0.  6. nan 10. 10. 10. 10. 10.  9.]\n",
      " [ 6. 10.  0.  8. nan  3.  9. 10. 10. 10.  9.]\n",
      " [ 5. 10.  0.  4. nan  4.  9. 10. 10. 10.  9.]\n",
      " [ 8.  0. 10.  4. nan  9. 10. 10. 10. 10.  9.]\n",
      " [ 6. 10.  0.  4. nan  9.  9. 10. 10. 10.  9.]\n",
      " [ 5. 10.  0.  4. nan  4.  9. 10. 10. 10.  9.]\n",
      " [ 6. 10.  0.  8. nan  8.  9. 10. 10. 10.  9.]\n",
      " [ 8. 10.  0.  6. nan  9. 10. 10. 10. 10.  8.]\n",
      " [ 6. 10.  0.  6. nan  4.  9. 10. 10. 10. 10.]\n",
      " [ 6. 10.  0.  6. nan  8. 10. 10. 10. 10.  9.]\n",
      " [ 6. 10.  0.  4. nan  4.  9. 10. 10. 10.  9.]\n",
      " [ 8.  0. 10.  4. nan  8.  9. 10. 10. 10. 10.]\n",
      " [ 8.  0.  0.  6. nan  9. 10. 10. 10. 10. 10.]\n",
      " [ 5. 10.  0.  6. nan  9. 10. 10. 10. 10. 10.]\n",
      " [ 6.  0. 10. 10. nan 10. 10. 10. 10. 10. 10.]\n",
      " [10.  0. 10.  6. nan  6. 10. 10. 10. 10. 10.]\n",
      " [10.  0. 10.  6. nan 10. 10. 10. 10. 10.  9.]\n",
      " [10.  0. 10.  6. nan  9. 10. 10. 10. 10. 10.]\n",
      " [ 9.  0. 10.  6. nan  3.  8. 10. 10. 10.  9.]\n",
      " [ 8.  0.  0.  6. nan  8. 10. 10. 10. 10. 10.]\n",
      " [ 9. 10. 10.  6. nan  8.  9. 10. 10. 10. 10.]]\n",
      "[ 9.  9.  8.  8.  9.  8.  8.  9.  9.  7.  9.  8.  8.  7.  8.  8.  9.  8.\n",
      "  7.  7.  9.  7.  8.  8.  7.  8.  9.  8.  9.  7.  7.  9. 10.  8.  8.  8.\n",
      "  8.  8.  7.  9.  7. 10.  7.  7.  7.  9.  8.  7.  8.  8.  7.  8.  8.  8.\n",
      "  7.  8.  7.  7.  9.  8.  8.  8.  9.  8.  8.  8.  9.  8.  8.  8.  8.  8.\n",
      "  8.  8.  8.  6.  8.  8.  7. 10.  7. 10.  9.  8.  8.  7.  7.  9.  8.  7.\n",
      "  7. 10.  8.  9.  7.  8.  8.  7.  7.  8.  8.  8.  8.  8.  7.  8.  7.  8.\n",
      "  9.  7.  8.  8.  7.  9.  9.  9.  9.  6.  9.  7.  8.  8.  7.  8. 10.  9.\n",
      "  9.  8.  9.  8.  9.  7.  8. 10.  8.  9.  8.  8.  8.  8.  9.  9.  8.  9.\n",
      "  8.  8.  8.  9.  7.  8. 10.  9.  8.  8.  8.  8.  9.  7.  9.  8.  8.  8.\n",
      "  9.  8.  8.  9.  8.  8.  7.  8.  8.  7.  8.  7.  7.  8.  7.  8.  7.  8.\n",
      "  8.  7.  8.  7.  9.  8.  7.  9.  6.  8.  9.  9.  8.  8.  8.  9.  8.  8.\n",
      " 10.  9.  8.  8.  8.  8.  9.  8.  8.  6.  9.  8.  9.  8.  9.  7.  8.  8.\n",
      "  9.  9.  7.  8.  7.  7.  9.  8.]\n"
     ]
    },
    {
     "name": "stderr",
     "output_type": "stream",
     "text": [
      "C:\\Users\\YRJ\\AppData\\Local\\Temp\\ipykernel_80388\\3943261628.py:4: RuntimeWarning: invalid value encountered in divide\n",
      "  test_feature = np.round(10*test_feature/np.max(test_feature,axis=0))\n"
     ]
    }
   ],
   "source": [
    "#把数据集的前11列的每一列中的数据首先除以该列的最大值，再按四舍五入的方式转换为整数\n",
    "train_feature = train_data[:,:-1]\n",
    "train_feature = np.round(10*train_feature/np.max(train_feature,axis=0))\n",
    "test_feature = np.round(10*test_feature/np.max(test_feature,axis=0))\n",
    "print(train_feature)\n",
    "print(test_feature)\n",
    "#打印第11列\n",
    "print(train_feature[:,10])\n"
   ]
  },
  {
   "cell_type": "code",
   "execution_count": 305,
   "id": "d68bae4a1b2ff836",
   "metadata": {
    "ExecuteTime": {
     "end_time": "2023-11-03T09:31:00.200477400Z",
     "start_time": "2023-11-03T09:31:00.153422700Z"
    },
    "collapsed": false
   },
   "outputs": [
    {
     "name": "stdout",
     "output_type": "stream",
     "text": [
      "(224, 12)\n",
      "(56, 12)\n",
      "alcohol\n",
      "[ 9.  9.  8.  8.  9.  8.  8.  9.  9.  7.  9.  8.  8.  7.  8.  8.  9.  8.\n",
      "  7.  7.  9.  7.  8.  8.  7.  8.  9.  8.  9.  7.  7.  9. 10.  8.  8.  8.\n",
      "  8.  8.  7.  9.  7. 10.  7.  7.  7.  9.  8.  7.  8.  8.  7.  8.  8.  8.\n",
      "  7.  8.  7.  7.  9.  8.  8.  8.  9.  8.  8.  8.  9.  8.  8.  8.  8.  8.\n",
      "  8.  8.  8.  6.  8.  8.  7. 10.  7. 10.  9.  8.  8.  7.  7.  9.  8.  7.\n",
      "  7. 10.  8.  9.  7.  8.  8.  7.  7.  8.  8.  8.  8.  8.  7.  8.  7.  8.\n",
      "  9.  7.  8.  8.  7.  9.  9.  9.  9.  6.  9.  7.  8.  8.  7.  8. 10.  9.\n",
      "  9.  8.  9.  8.  9.  7.  8. 10.  8.  9.  8.  8.  8.  8.  9.  9.  8.  9.\n",
      "  8.  8.  8.  9.  7.  8. 10.  9.  8.  8.  8.  8.  9.  7.  9.  8.  8.  8.\n",
      "  9.  8.  8.  9.  8.  8.  7.  8.  8.  7.  8.  7.  7.  8.  7.  8.  7.  8.\n",
      "  8.  7.  8.  7.  9.  8.  7.  9.  6.  8.  9.  9.  8.  8.  8.  9.  8.  8.\n",
      " 10.  9.  8.  8.  8.  8.  9.  8.  8.  6.  9.  8.  9.  8.  9.  7.  8.  8.\n",
      "  9.  9.  7.  8.  7.  7.  9.  8.]\n"
     ]
    }
   ],
   "source": [
    "#把train_feature和train_label合并为新的数据集train_data\n",
    "train_data = np.hstack((train_feature,train_label.reshape(-1,1)))\n",
    "test_data = np.hstack((test_feature,test_label.reshape(-1,1)))\n",
    "print(train_data.shape)\n",
    "print(test_data.shape)\n",
    "print(feature_label[10])\n",
    "print(train_data[:,10])"
   ]
  },
  {
   "cell_type": "code",
   "execution_count": 306,
   "id": "569dea020fc7bacd",
   "metadata": {
    "ExecuteTime": {
     "end_time": "2023-11-03T09:31:00.200477400Z",
     "start_time": "2023-11-03T09:31:00.169145600Z"
    },
    "collapsed": false
   },
   "outputs": [],
   "source": [
    "#选择最优特征\n",
    "def chooseBestFeatureToSplit(dataset):\n",
    "    numFeatures = len(dataset[0]) - 1\n",
    "    baseEntropy = calcShannonEnt(dataset)#计算原始数据集的香农熵\n",
    "    bestInfoGain = 0.0\n",
    "    bestFeature = -1\n",
    "    for i in range(numFeatures):\n",
    "      #获取dataSet的第i个所有特征\n",
    "      featList = [example[i] for example in dataset]\n",
    "      uniqueVals = set(featList)\n",
    "      newEntropy = 0.0\n",
    "      for value in uniqueVals:\n",
    "        subDataSet = splitDataSet(dataset,i,value)#subDataSet划分后的子集\n",
    "        prob = len(subDataSet)/float(len(dataset))#计算子集的概率\n",
    "        newEntropy += prob * calcShannonEnt(subDataSet)#计算分岔之后的香农熵\n",
    "      infoGain = baseEntropy - newEntropy#信息增益\n",
    "      # print(\"第%d个特征的增益为%.3f\"%(i,infoGain))\n",
    "      if (infoGain > bestInfoGain):\n",
    "        bestInfoGain = infoGain\n",
    "        bestFeature = i\n",
    "    return bestFeature"
   ]
  },
  {
   "cell_type": "code",
   "execution_count": 307,
   "id": "1fbb97a8",
   "metadata": {
    "ExecuteTime": {
     "end_time": "2023-11-03T09:31:00.213494Z",
     "start_time": "2023-11-03T09:31:00.184772800Z"
    }
   },
   "outputs": [],
   "source": [
    "#计算当前数据集中的各个类别的数量，返回数量最多的类别\n",
    "import operator\n",
    "def majorityCnt(classList):\n",
    "  classCount = {}#存储各个类别的数量\n",
    "  for vote in classList:\n",
    "    if vote not in classCount.keys():\n",
    "      classCount[vote] = 0\n",
    "    classCount[vote] += 1\n",
    "  sortedClassCount = sorted(classCount.items(),key = operator.itemgetter(1),reverse = True)\n",
    "  return sortedClassCount[0][0]"
   ]
  },
  {
   "cell_type": "code",
   "execution_count": 308,
   "id": "7c340a8aea4ada59",
   "metadata": {
    "ExecuteTime": {
     "end_time": "2023-11-03T09:31:00.311361900Z",
     "start_time": "2023-11-03T09:31:00.200477400Z"
    },
    "collapsed": false
   },
   "outputs": [],
   "source": [
    "#创建树的节点模型\n",
    "def createTree(dataset,labels,feature_labels):\n",
    "  #判断数据集中的所有数据是否属于同一类别\n",
    "  classList = [example[-1] for example in dataset]\n",
    "  if classList.count(classList[0]) == len(classList):\n",
    "    return classList[0]\n",
    "    #判断数据集是否只有一列,可能仍然不纯\n",
    "  if len(dataset[0]) == 1:\n",
    "    return majorityCnt(classList)\n",
    "    #选择最优的列，得到最优列对应的label含义\n",
    "  bestFeat = chooseBestFeatureToSplit(dataset)\n",
    "  bestFeatLabel = labels[bestFeat]#最优列的标签\n",
    "  feature_labels.append(bestFeatLabel)\n",
    "  #初始化myTree\n",
    "  myTree = {bestFeatLabel:{}}\n",
    "  del (labels[bestFeat])#删除已经使用特征标签\n",
    "  #得到训练集中所有最优列的属性值\n",
    "  featValues = [example[bestFeat] for example in dataset]#当前列\n",
    "  uniqueVals = set(featValues)#去掉重复的属性值\n",
    "  for value in uniqueVals:\n",
    "      subLabels = labels[:]#子集合\n",
    "      myTree[bestFeatLabel][value] = createTree(splitDataSet(dataset,bestFeat,value),subLabels,feature_labels)\n",
    "  return myTree"
   ]
  },
  {
   "cell_type": "markdown",
   "id": "ae73ce2d9a7ac1ae",
   "metadata": {
    "collapsed": false
   },
   "source": [
    "计算香农熵的公式为：i表示第i个特征，n表示特征的取值个数，p(xi)表示第i个特征取值为xi的概率\n",
    "$$H=-\\sum_{i=1}^{n}p(x_i)log_2p(x_i)$$"
   ]
  },
  {
   "cell_type": "code",
   "execution_count": 309,
   "id": "fb2b5e9e5ccb784a",
   "metadata": {
    "ExecuteTime": {
     "end_time": "2023-11-03T09:31:00.345769700Z",
     "start_time": "2023-11-03T09:31:00.218165900Z"
    },
    "collapsed": false
   },
   "outputs": [],
   "source": [
    "#计算香农熵\n",
    "import math\n",
    "def calcShannonEnt(dataset):\n",
    "  numEntries = len(dataset)#计算数据集中实例的总数\n",
    "  labelCounts = {}#创建字典，它的键值是最后一列的数值\n",
    "  for featVec in dataset:\n",
    "    currentLabel = featVec[-1]#提取标签信息\n",
    "    if currentLabel not in labelCounts.keys():\n",
    "      labelCounts[currentLabel] = 0\n",
    "    labelCounts[currentLabel] += 1#每个类别出现的次数\n",
    "  shannonEnt = 0.0\n",
    "  for key in labelCounts:\n",
    "    prob = float(labelCounts[key])/numEntries#选择该标签的概率\n",
    "    shannonEnt -= prob * math.log(prob,2)#计算香农熵\n",
    "  return shannonEnt"
   ]
  },
  {
   "cell_type": "code",
   "execution_count": 310,
   "id": "7dac4df0466fd2f1",
   "metadata": {
    "ExecuteTime": {
     "end_time": "2023-11-03T09:31:00.345769700Z",
     "start_time": "2023-11-03T09:31:00.233679800Z"
    },
    "collapsed": false
   },
   "outputs": [],
   "source": [
    "#按照给定特征划分数据集->决策树分岔\n",
    "def splitDataSet(dataset,axis,value):\n",
    "  retDataSet = []#创建返回的数据集列表\n",
    "  for featVec in dataset:\n",
    "    if featVec[axis] == value:\n",
    "      reducedFeatVec = np.concatenate((featVec[:axis],featVec[axis+1:]))\n",
    "      retDataSet.append(reducedFeatVec)\n",
    "  return retDataSet"
   ]
  },
  {
   "cell_type": "code",
   "execution_count": 311,
   "id": "f90cfe71",
   "metadata": {
    "ExecuteTime": {
     "end_time": "2023-11-03T09:31:00.345769700Z",
     "start_time": "2023-11-03T09:31:00.249355400Z"
    }
   },
   "outputs": [],
   "source": [
    "#定义一个函数计算决策树的深度\n",
    "def getTreeDepth(myTree):\n",
    "  maxDepth = 0\n",
    "  firstStr = list(myTree.keys())[0]#获取决策树的第一个节点\n",
    "  secondDict = myTree[firstStr]#下一个字典\n",
    "  for key in secondDict.keys():\n",
    "    if type(secondDict[key]).__name__ == 'dict':\n",
    "      thisDepth = 1 + getTreeDepth(secondDict[key])\n",
    "    else:\n",
    "      thisDepth = 1\n",
    "    if thisDepth > maxDepth:\n",
    "      maxDepth = thisDepth\n",
    "  return maxDepth\n"
   ]
  },
  {
   "cell_type": "code",
   "execution_count": 312,
   "id": "946a586bf97a7343",
   "metadata": {
    "ExecuteTime": {
     "end_time": "2023-11-03T09:31:00.345769700Z",
     "start_time": "2023-11-03T09:31:00.264081800Z"
    },
    "collapsed": false
   },
   "outputs": [],
   "source": [
    "def getNumLeafs(myTree):\n",
    "  numLeafs = 0\n",
    "  firstStr = list(myTree.keys())[0]#获取决策树的第一个节点\n",
    "  secondDict = myTree[firstStr]#获取下一组字典\n",
    "  for key in secondDict.keys():\n",
    "    if type(secondDict[key]).__name__ == 'dict':\n",
    "      numLeafs += getNumLeafs(secondDict[key])\n",
    "    else:\n",
    "      numLeafs += 1\n",
    "  return numLeafs"
   ]
  },
  {
   "cell_type": "code",
   "execution_count": 313,
   "id": "ee022d0ae84b4484",
   "metadata": {
    "ExecuteTime": {
     "end_time": "2023-11-03T09:31:00.345769700Z",
     "start_time": "2023-11-03T09:31:00.279977700Z"
    },
    "collapsed": false
   },
   "outputs": [
    {
     "name": "stdout",
     "output_type": "stream",
     "text": [
      "{'no surfacing': {0: 'no', 1: {'flippers': {'0': 'no', '1': 'yes'}}}}\n",
      "2\n"
     ]
    }
   ],
   "source": [
    "#定义一个小数据集对决策树的构建进行测试\n",
    "dataset = [[1,1,'yes'],\n",
    "           [1,1,'yes'],\n",
    "           [1,0,'no'],\n",
    "           [0,1,'no'],\n",
    "           [0,1,'no']]\n",
    "labels = ['no surfacing','flippers']\n",
    "feature_labels = []\n",
    "myTree = createTree(dataset,labels,feature_labels)\n",
    "print(myTree)\n",
    "\n",
    "getNumLeafs(myTree)\n",
    "# #绘制决策树\n",
    "# createPlot(myTree)\n",
    "print(getTreeDepth(myTree))\n"
   ]
  },
  {
   "cell_type": "code",
   "execution_count": 314,
   "id": "113b743d3378dfd7",
   "metadata": {
    "ExecuteTime": {
     "end_time": "2023-11-03T09:31:00.496730100Z",
     "start_time": "2023-11-03T09:31:00.295619900Z"
    },
    "collapsed": false
   },
   "outputs": [
    {
     "name": "stdout",
     "output_type": "stream",
     "text": [
      "['fixed acidity', 'volatile acidity', 'citric acid', 'residual sugar', 'chlorides', 'free sulfur dioxide', 'total sulfur dioxide', 'density', 'pH', 'sulphates', 'alcohol']\n",
      "[[5. 2. 3. ... 4. 9. 7.]\n",
      " [6. 2. 5. ... 4. 9. 7.]\n",
      " [6. 2. 5. ... 3. 8. 8.]\n",
      " ...\n",
      " [5. 6. 1. ... 3. 7. 7.]\n",
      " [6. 2. 4. ... 4. 9. 7.]\n",
      " [4. 4. 1. ... 3. 8. 7.]]\n",
      "{'volatile acidity': {1.0: {'fixed acidity': {10.0: 7.0, 5.0: 7.0, 6.0: 7.0, 7.0: 4.0}}, 2.0: {'total sulfur dioxide': {0.0: {'citric acid': {2.0: 4.0, 3.0: {'sulphates': {3.0: 7.0, 4.0: 7.0, 6.0: 8.0}}, 4.0: {'fixed acidity': {5.0: 7.0, 6.0: 7.0, 7.0: 8.0}}, 5.0: 7.0}}, 1.0: {'free sulfur dioxide': {1.0: {'citric acid': {3.0: 7.0, 4.0: 7.0, 5.0: {'sulphates': {3.0: 8.0, 4.0: 7.0, 5.0: 7.0, 6.0: 7.0}}, 6.0: {'fixed acidity': {6.0: 8.0, 7.0: 7.0}}, 7.0: 8.0}}, 2.0: 7.0, 3.0: {'residual sugar': {1.0: {'fixed acidity': {8.0: 7.0, 4.0: 7.0, 5.0: {'pH': {8.0: 8.0, 9.0: 7.0}}}}, 2.0: 7.0, 3.0: 8.0, 7.0: 7.0}}, 4.0: 7.0, 5.0: 7.0}}, 2.0: 7.0, 3.0: {'fixed acidity': {8.0: 7.0, 5.0: 4.0, 6.0: 8.0}}, 4.0: {'residual sugar': {1.0: 7.0, 10.0: 4.0, 2.0: 7.0}}, 10.0: 7.0}}, 3.0: {'free sulfur dioxide': {1.0: {'citric acid': {0.0: 4.0, 2.0: 4.0, 3.0: 8.0, 4.0: {'fixed acidity': {5.0: 4.0, 6.0: {'residual sugar': {1.0: 8.0, 5.0: 7.0}}, 7.0: 7.0}}, 5.0: {'residual sugar': {1.0: 8.0, 5.0: 7.0}}, 6.0: 7.0, 7.0: 7.0}}, 2.0: {'alcohol': {6.0: 4.0, 7.0: 7.0, 8.0: 7.0, 9.0: 7.0, 10.0: 7.0}}, 3.0: {'fixed acidity': {3.0: 7.0, 4.0: 4.0, 5.0: 4.0}}, 4.0: 7.0, 5.0: {'fixed acidity': {8.0: 4.0, 4.0: 8.0, 6.0: 7.0, 7.0: 7.0}}, 6.0: {'citric acid': {10.0: 4.0, 3.0: 7.0, 4.0: 3.0, 6.0: 7.0}}, 7.0: {'citric acid': {4.0: 4.0, 7.0: 7.0}}}}, 4.0: {'alcohol': {6.0: 3.0, 7.0: {'citric acid': {0.0: {'free sulfur dioxide': {1.0: 4.0, 2.0: {'residual sugar': {1.0: 4.0, 2.0: 7.0}}, 3.0: 7.0}}, 1.0: 7.0, 2.0: 4.0, 4.0: 4.0, 5.0: 4.0, 7.0: 7.0}}, 8.0: {'total sulfur dioxide': {0.0: 4.0, 1.0: {'residual sugar': {1.0: 7.0, 2.0: 7.0, 3.0: 4.0, 5.0: 7.0}}, 2.0: 7.0}}, 9.0: {'fixed acidity': {8.0: 7.0, 3.0: 7.0, 4.0: 7.0, 5.0: 8.0}}, 10.0: 8.0}}, 5.0: {'free sulfur dioxide': {1.0: 4.0, 2.0: {'alcohol': {8.0: 7.0, 9.0: 8.0, 7.0: 4.0}}, 3.0: 3.0, 6.0: 7.0}}, 6.0: {'fixed acidity': {3.0: 4.0, 4.0: 4.0, 5.0: {'citric acid': {0.0: {'residual sugar': {1.0: 4.0, 2.0: 3.0, 3.0: {'chlorides': {1.0: 3.0, 2.0: 4.0}}}}, 1.0: 7.0, 3.0: 4.0}}, 6.0: 4.0}}, 7.0: 4.0, 8.0: 3.0, 10.0: 3.0}}\n"
     ]
    }
   ],
   "source": [
    "#测试决策树的构建\n",
    "featurelabels = []\n",
    "print(feature_label)\n",
    "print(train_data)\n",
    "myTree = createTree(train_data,feature_label,featurelabels)\n",
    "print(myTree)"
   ]
  },
  {
   "cell_type": "code",
   "execution_count": 315,
   "id": "9e56d1da",
   "metadata": {
    "ExecuteTime": {
     "end_time": "2023-11-03T09:31:00.544074Z",
     "start_time": "2023-11-03T09:31:00.496730100Z"
    }
   },
   "outputs": [
    {
     "name": "stdout",
     "output_type": "stream",
     "text": [
      "6\n"
     ]
    }
   ],
   "source": [
    "#写一个函数检测决策树的根节点开始到一个随机的叶子节点包含的特征数\n",
    "print(getTreeDepth(myTree))"
   ]
  },
  {
   "cell_type": "code",
   "execution_count": 316,
   "id": "0b5a46e7",
   "metadata": {
    "ExecuteTime": {
     "end_time": "2023-11-03T09:37:16.796290400Z",
     "start_time": "2023-11-03T09:35:51.322386700Z"
    }
   },
   "outputs": [
    {
     "name": "stdout",
     "output_type": "stream",
     "text": [
      "11\n",
      "7.0 7.0\n",
      "7.0 7.0\n",
      "7.0 3.0\n",
      "7.0 4.0\n",
      "4.0 7.0\n",
      "7.0 7.0\n",
      "7.0 7.0\n",
      "7.0 7.0\n",
      "7.0 7.0\n",
      "7.0 7.0\n",
      "7.0 7.0\n",
      "7.0 4.0\n",
      "7.0 7.0\n",
      "7.0 4.0\n",
      "7.0 7.0\n",
      "7.0 4.0\n",
      "7.0 7.0\n",
      "7.0 7.0\n",
      "4.0 7.0\n",
      "7.0 7.0\n",
      "4.0 7.0\n",
      "4.0 7.0\n",
      "7.0 7.0\n",
      "7.0 4.0\n",
      "7.0 4.0\n",
      "4.0 7.0\n",
      "7.0 7.0\n",
      "4.0 7.0\n",
      "7.0 7.0\n",
      "7.0 7.0\n",
      "7.0 7.0\n",
      "7.0 7.0\n",
      "4.0 8.0\n",
      "7.0 7.0\n",
      "4.0 7.0\n",
      "4.0 4.0\n",
      "7.0 3.0\n",
      "7.0 3.0\n",
      "7.0 7.0\n",
      "7.0 7.0\n",
      "7.0 4.0\n",
      "7.0 7.0\n",
      "7.0 4.0\n",
      "7.0 7.0\n",
      "7.0 4.0\n",
      "7.0 4.0\n",
      "7.0 7.0\n",
      "7.0 7.0\n",
      "7.0 8.0\n",
      "4.0 7.0\n",
      "7.0 7.0\n",
      "7.0 7.0\n",
      "7.0 7.0\n",
      "7.0 7.0\n",
      "7.0 7.0\n",
      "7.0 7.0\n",
      "23\n",
      "错误率为：0.411\n"
     ]
    }
   ],
   "source": [
    "#在测试集上测试决策树\n",
    "# %%script false\n",
    "\n",
    "def classify(inputTree,featLabels,testVec,TreeRoute={}):\n",
    "  # classLabel = ''\n",
    "  # Treeroute = []\n",
    "  firstStr = list(inputTree.keys())[0]#获取决策树的第一个特征属性,表示当前判断的特征\n",
    "  #获取当前判断的特征的取值\n",
    "  feature_value = [key for key in inputTree[firstStr].keys()] \n",
    "  # secondDict = inputTree[firstStr]#获取第一个属性的值,表示当前判断的特征的取值\n",
    "  featIndex = featLabels.index(firstStr)#将标签字符串转换为索引\n",
    "  #从测试向量中获取当前判断的特征的取值\n",
    "  test_value = testVec[featIndex]\n",
    "\n",
    "  # print(feature_value)\n",
    "  # print(firstStr,test_value)\n",
    "\n",
    "\n",
    "\n",
    "  #进入字典结构中对应当前判断的特征的取值最近的子树\n",
    "  min_diastance = 1000\n",
    "  for key in feature_value:\n",
    "     distance=abs(key-test_value)\n",
    "     if distance<min_diastance:\n",
    "        min_diastance=distance\n",
    "        test_value=key\n",
    "   \n",
    "  secondDict = inputTree[firstStr][test_value]    \n",
    "  if isinstance(secondDict, dict):\n",
    "    return classify(secondDict,featLabels,testVec)\n",
    "  else:\n",
    "    #打印当前叶子节点包含的全部特征取值\n",
    "    # print(secondDict)\n",
    "    return secondDict\n",
    "\n",
    "\n",
    "feature_label = ['fixed acidity','volatile acidity','citric acid','residual sugar','chlorides','free sulfur dioxide','total sulfur dioxide','density','pH','sulphates','alcohol']\n",
    "print(len(feature_label))\n",
    "#测试训练出的决策树,计算错误率\n",
    "error = 0\n",
    "\n",
    "for i in range(len(test_data)):\n",
    "  test_result = classify(myTree,feature_label,test_data[i])\n",
    "  # #取字典的最里面的值\n",
    "  # test_result= list(test_result.values())[0]\n",
    "  print(test_result,test_data[i][-1])\n",
    "  if test_result != test_data[i][-1]:\n",
    "    error += 1\n",
    "\n",
    "print(error)\n",
    "# print(test_data)\n",
    "print(\"错误率为：%.3f\"%(error/len(test_data)))\n"
   ]
  },
  {
   "cell_type": "markdown",
   "id": "0799fca7",
   "metadata": {},
   "source": []
  },
  {
   "cell_type": "code",
   "execution_count": 317,
   "id": "1f5e83c59a9d2457",
   "metadata": {
    "ExecuteTime": {
     "start_time": "2023-11-03T09:31:00.544074Z"
    },
    "collapsed": false
   },
   "outputs": [],
   "source": [
    "#绘制决策树\n",
    "import matplotlib.pyplot as plt\n",
    "#定义文本框和箭头格式\n",
    "decisionNode = dict(boxstyle = \"sawtooth\",fc = \"0.8\")\n",
    "leafNode = dict(boxstyle = \"round4\",fc = \"0.8\")\n",
    "arrow_args = dict(arrowstyle = \"<-\")\n",
    "#绘制带箭头的注解\n",
    "def plotNode(nodeTxt,centerPt,parentPt,nodeType):\n",
    "  createPlot.ax1.annotate(nodeTxt,xy = parentPt,xycoords = 'axes fraction',xytext = centerPt,textcoords = 'axes fraction',va = \"center\",ha = \"center\",bbox = nodeType,arrowprops = arrow_args)\n",
    "#计算叶子节点的数目\n",
    "def getNumLeafs(myTree):\n",
    "  numLeafs = 0\n",
    "  firstStr = list(myTree.keys())[0]#获取结点的标签\n",
    "  secondDict = myTree[firstStr]#获取结点的值\n",
    "  for key in secondDict.keys():\n",
    "    if type(secondDict[key]).__name__ == 'dict':\n",
    "      numLeafs += getNumLeafs(secondDict[key])\n",
    "    else:\n",
    "      numLeafs += 1\n",
    "  return numLeafs\n",
    "#计算树的层数\n",
    "def getTreeDepth(myTree):\n",
    "  maxDepth = 0\n",
    "  firstStr = list(myTree.keys())[0]\n",
    "  secondDict = myTree[firstStr]\n",
    "  for key in secondDict.keys():\n",
    "    if type(secondDict[key]).__name__ == 'dict':\n",
    "      thisDepth = 1 + getTreeDepth(secondDict[key])\n",
    "    else:\n",
    "      thisDepth = 1\n",
    "    if thisDepth > maxDepth:\n",
    "      maxDepth = thisDepth\n",
    "  return maxDepth\n",
    "#在父子节点间填充文本信息\n",
    "def plotMidText(cntrPt,parentPt,txtString):\n",
    "  xMid = (parentPt[0] - cntrPt[0])/2.0 + cntrPt[0]\n",
    "  yMid = (parentPt[1] - cntrPt[1])/2.0 + cntrPt[1]\n",
    "  createPlot.ax1.text(xMid,yMid,txtString)\n",
    "#绘制决策树\n",
    "def plotTree(myTree,parentPt,nodeTxt):\n",
    "  numLeafs = getNumLeafs(myTree)#获取叶节点的数目\n",
    "  depth = getTreeDepth(myTree)#获取树的层数\n",
    "  firstStr = list(myTree.keys())[0]#获取结点的标签\n",
    "  cntrPt = (plotTree.xOff + (1.0 + float(numLeafs))/2.0/plotTree.totalW,plotTree.yOff)#确定节点的位置\n",
    "  plotMidText(cntrPt,parentPt,nodeTxt)#在父子节点间填充文本信息\n",
    "  plotNode(firstStr,cntrPt,parentPt,decisionNode)#绘制带箭头的注解\n",
    "  secondDict = myTree[firstStr]#获取结点的值\n",
    "  plotTree.yOff = plotTree.yOff - 1.0/plotTree.totalD#减少y的偏移\n",
    "  for key in secondDict.keys():\n",
    "    if type(secondDict[key]).__name__ == 'dict':\n",
    "      plotTree(secondDict[key],cntrPt,str(key))#递归绘制决策树\n",
    "    else:\n",
    "      plotTree.xOff = plotTree.xOff + 1.0/plotTree.totalW#增加x的偏移\n",
    "      plotNode(secondDict[key],(plotTree.xOff,plotTree.yOff),cntrPt,leafNode)#绘制带箭头的注解\n",
    "      plotMidText((plotTree.xOff,plotTree.yOff),cntrPt,str(key))#在父子节点间填充文本信息\n",
    "  plotTree.yOff = plotTree.yOff + 1.0/plotTree.totalD#增加y的偏移\n",
    "#创建绘图区\n",
    "def createPlot(inTree):\n",
    "  fig = plt.figure(1,facecolor = 'white')\n",
    "  fig.clf()\n",
    "  axprops = dict(xticks = [],yticks = [])\n",
    "  createPlot.ax1 = plt.subplot(111,frameon = False,**axprops)\n",
    "  plotTree.totalW = float(getNumLeafs(inTree))\n",
    "  plotTree.totalD = float(getTreeDepth(inTree))\n",
    "  plotTree.xOff = -0.5/plotTree.totalW\n",
    "  plotTree.yOff = 1.0\n",
    "  plotTree(inTree,(0.5,1.0),'')\n",
    "  plt.show()\n",
    "\n",
    "# createPlot(myTree)"
   ]
  },
  {
   "cell_type": "code",
   "execution_count": 318,
   "id": "6937fec3",
   "metadata": {
    "ExecuteTime": {
     "start_time": "2023-11-03T09:31:00.544074Z"
    }
   },
   "outputs": [
    {
     "name": "stdout",
     "output_type": "stream",
     "text": [
      "Couldn't find program: 'false'\n"
     ]
    }
   ],
   "source": [
    "%%script false\n",
    "#定义一个数据类，传入数据集，特征项，标签项，把特征项和特征项的标签合并为一列\n",
    "class DataSetDT():\n",
    "    def __init__(self, train_data, feature_label, label):\n",
    "        #self.features作为一个字典，key为特征项的标签，value为特征项的值\n",
    "        self.features = {}\n",
    "        for i,feature_key in enumerate(feature_label):\n",
    "             self.features[feature_key] = train_data[:,i]\n",
    "        self.label = label\n",
    "        #如果检查到某一列的特征项的值全为0，则删除该列\n",
    "\n",
    "    \n",
    "    #按数据集样本个数返回数据集的长度\n",
    "    def __len__(self):\n",
    "        return len(self.label)\n",
    "\n",
    "    #删除标签为feature_key的字典键值对\n",
    "    def delete(self,feature_key):\n",
    "        del self.features[feature_key]\n",
    "        #第0列删不了\n",
    "    # def checkout(self):\n",
    "    #     for key in self.features:\n",
    "    #         if len(self.features[key]) == 0:\n",
    "    #             del self.features[key]\n",
    "       \n",
    "#实例化数据类\n",
    "train_data = DataSetDT(train_feature,feature_label,train_label)\n",
    "test_data = DataSetDT(test_feature,feature_label,test_label)\n",
    "\n",
    "#打印数据的类型\n",
    "print(type(train_data))\n",
    "# train_data.delete('fixed acidity')\n",
    "print(train_data.features)\n",
    "print(len(train_data))"
   ]
  }
 ],
 "metadata": {
  "kernelspec": {
   "display_name": "Python 3",
   "language": "python",
   "name": "python3"
  },
  "language_info": {
   "codemirror_mode": {
    "name": "ipython",
    "version": 3
   },
   "file_extension": ".py",
   "mimetype": "text/x-python",
   "name": "python",
   "nbconvert_exporter": "python",
   "pygments_lexer": "ipython3",
   "version": "3.10.9"
  }
 },
 "nbformat": 4,
 "nbformat_minor": 5
}
