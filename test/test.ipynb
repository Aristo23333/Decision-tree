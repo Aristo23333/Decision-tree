{
 "cells": [
  {
   "cell_type": "code",
   "execution_count": 1,
   "id": "initial_id",
   "metadata": {
    "collapsed": true,
    "ExecuteTime": {
     "end_time": "2023-11-14T14:43:00.667344600Z",
     "start_time": "2023-11-14T14:42:56.595443800Z"
    }
   },
   "outputs": [
    {
     "ename": "FileNotFoundError",
     "evalue": "[Errno 2] No such file or directory: 'vehicle.arff'",
     "output_type": "error",
     "traceback": [
      "\u001B[1;31m---------------------------------------------------------------------------\u001B[0m",
      "\u001B[1;31mFileNotFoundError\u001B[0m                         Traceback (most recent call last)",
      "Cell \u001B[1;32mIn[1], line 14\u001B[0m\n\u001B[0;32m     11\u001B[0m \u001B[38;5;28;01mimport\u001B[39;00m \u001B[38;5;21;01mmatplotlib\u001B[39;00m\u001B[38;5;21;01m.\u001B[39;00m\u001B[38;5;21;01mpyplot\u001B[39;00m \u001B[38;5;28;01mas\u001B[39;00m \u001B[38;5;21;01mplt\u001B[39;00m\n\u001B[0;32m     12\u001B[0m \u001B[38;5;28;01mimport\u001B[39;00m \u001B[38;5;21;01mnumpy\u001B[39;00m \u001B[38;5;28;01mas\u001B[39;00m \u001B[38;5;21;01mnp\u001B[39;00m\n\u001B[1;32m---> 14\u001B[0m data \u001B[38;5;241m=\u001B[39m \u001B[43marff\u001B[49m\u001B[38;5;241;43m.\u001B[39;49m\u001B[43mloadarff\u001B[49m\u001B[43m(\u001B[49m\u001B[38;5;124;43m'\u001B[39;49m\u001B[38;5;124;43mvehicle.arff\u001B[39;49m\u001B[38;5;124;43m'\u001B[39;49m\u001B[43m)\u001B[49m\n\u001B[0;32m     15\u001B[0m df   \u001B[38;5;241m=\u001B[39m pd\u001B[38;5;241m.\u001B[39mDataFrame(data[\u001B[38;5;241m0\u001B[39m])\n\u001B[0;32m     16\u001B[0m y \u001B[38;5;241m=\u001B[39m \u001B[38;5;28mlist\u001B[39m(df[\u001B[38;5;124m'\u001B[39m\u001B[38;5;124mclass\u001B[39m\u001B[38;5;124m'\u001B[39m])\n",
      "File \u001B[1;32mD:\\conda_envs\\pytorch\\lib\\site-packages\\scipy\\io\\arff\\_arffread.py:800\u001B[0m, in \u001B[0;36mloadarff\u001B[1;34m(f)\u001B[0m\n\u001B[0;32m    798\u001B[0m     ofile \u001B[38;5;241m=\u001B[39m f\n\u001B[0;32m    799\u001B[0m \u001B[38;5;28;01melse\u001B[39;00m:\n\u001B[1;32m--> 800\u001B[0m     ofile \u001B[38;5;241m=\u001B[39m \u001B[38;5;28;43mopen\u001B[39;49m\u001B[43m(\u001B[49m\u001B[43mf\u001B[49m\u001B[43m)\u001B[49m\n\u001B[0;32m    801\u001B[0m \u001B[38;5;28;01mtry\u001B[39;00m:\n\u001B[0;32m    802\u001B[0m     \u001B[38;5;28;01mreturn\u001B[39;00m _loadarff(ofile)\n",
      "\u001B[1;31mFileNotFoundError\u001B[0m: [Errno 2] No such file or directory: 'vehicle.arff'"
     ]
    }
   ],
   "source": [
    "import pybaobabdt\n",
    "import pandas as pd\n",
    "from scipy.io import arff\n",
    "from sklearn.tree import DecisionTreeClassifier\n",
    "import pygraphviz as pgv\n",
    "from sklearn.tree import export_graphviz   \n",
    "import matplotlib\n",
    "from matplotlib.colors import LinearSegmentedColormap\n",
    "from matplotlib.colors import ListedColormap\n",
    "from colour import Color\n",
    "import matplotlib.pyplot as plt\n",
    "import numpy as np\n",
    "\n",
    "data = arff.loadarff('vehicle.arff')\n",
    "df   = pd.DataFrame(data[0])\n",
    "y = list(df['class'])\n",
    "features = list(df.columns)\n",
    "\n",
    "                   \n",
    "features.remove('class')\n",
    "X = df.loc[:, features]\n",
    "\n",
    "clf = DecisionTreeClassifier().fit(X, y)\n",
    "\n",
    "ax = pybaobabdt.drawTree(clf, size=10, dpi=72, features=features, colormap='Spectral')"
   ]
  },
  {
   "cell_type": "code",
   "execution_count": null,
   "outputs": [],
   "source": [],
   "metadata": {
    "collapsed": false
   },
   "id": "31ae70ac1bb080c"
  }
 ],
 "metadata": {
  "kernelspec": {
   "display_name": "Python 3",
   "language": "python",
   "name": "python3"
  },
  "language_info": {
   "codemirror_mode": {
    "name": "ipython",
    "version": 2
   },
   "file_extension": ".py",
   "mimetype": "text/x-python",
   "name": "python",
   "nbconvert_exporter": "python",
   "pygments_lexer": "ipython2",
   "version": "2.7.6"
  }
 },
 "nbformat": 4,
 "nbformat_minor": 5
}
