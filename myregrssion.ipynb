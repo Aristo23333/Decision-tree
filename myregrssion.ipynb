{
 "cells": [
  {
   "cell_type": "code",
   "execution_count": 2,
   "id": "initial_id",
   "metadata": {
    "ExecuteTime": {
     "end_time": "2023-10-20T09:10:10.402550300Z",
     "start_time": "2023-10-20T09:10:10.154610300Z"
    },
    "collapsed": true
   },
   "outputs": [
    {
     "name": "stdout",
     "output_type": "stream",
     "text": [
      "[[ 7.4    0.7    0.    ...  0.56   9.4    5.   ]\n",
      " [ 7.8    0.88   0.    ...  0.68   9.8    5.   ]\n",
      " [ 7.8    0.76   0.04  ...  0.65   9.8    5.   ]\n",
      " ...\n",
      " [ 6.3    0.51   0.13  ...  0.75  11.     6.   ]\n",
      " [ 5.9    0.645  0.12  ...  0.71  10.2    5.   ]\n",
      " [ 6.     0.31   0.47  ...  0.66  11.     6.   ]]\n"
     ]
    }
   ],
   "source": [
    "#以下部分定义一个决策树模型实现对winequality-red.csv数据集的分类\n",
    "import pandas as pd\n",
    "data = pd.read_csv('winequality-red.csv',sep=';')\n",
    "import numpy as np\n",
    "data = np.array(data)\n",
    "print(data)"
   ]
  },
  {
   "cell_type": "code",
   "execution_count": 3,
   "id": "db71c3a110f05197",
   "metadata": {
    "ExecuteTime": {
     "end_time": "2023-10-20T09:10:10.432502600Z",
     "start_time": "2023-10-20T09:10:10.171819800Z"
    },
    "collapsed": false
   },
   "outputs": [
    {
     "name": "stdout",
     "output_type": "stream",
     "text": [
      "[  0   0   0  10  53 681 638 199  18   0]\n"
     ]
    }
   ],
   "source": [
    "#Count the sample size for different categories by the last column\n",
    "count = np.array([0]*10)\n",
    "for i in range(len(data)):\n",
    "    count[int(data[i][-1])] = count[int(data[i][-1])] + 1\n",
    "#打印每个类别的样本数量->仅仅针对较多的类别进行预测\n",
    "print(count)"
   ]
  },
  {
   "cell_type": "code",
   "execution_count": 4,
   "id": "4e7fc2d66d80f076",
   "metadata": {
    "ExecuteTime": {
     "end_time": "2023-10-20T09:10:10.547757200Z",
     "start_time": "2023-10-20T09:10:10.183258400Z"
    },
    "collapsed": false
   },
   "outputs": [
    {
     "name": "stdout",
     "output_type": "stream",
     "text": [
      "[[ 7.6   0.95  0.03 ...  0.56  9.6   5.  ]\n",
      " [ 6.7   0.54  0.13 ...  0.64  9.8   5.  ]\n",
      " [ 6.8   0.81  0.05 ...  0.66 10.8   6.  ]\n",
      " ...\n",
      " [ 6.1   0.32  0.25 ...  0.97 10.6   5.  ]\n",
      " [ 8.2   0.34  0.37 ...  0.81 12.    6.  ]\n",
      " [ 7.2   1.    0.   ...  0.46 10.    5.  ]] 1279\n",
      "[[ 5.4    0.74   0.09  ...  0.56  11.6    6.   ]\n",
      " [11.4    0.6    0.49  ...  0.63  10.5    6.   ]\n",
      " [ 8.6    0.685  0.1   ...  0.65   9.55   6.   ]\n",
      " ...\n",
      " [ 8.     0.83   0.27  ...  0.48   9.8    4.   ]\n",
      " [ 7.2    0.53   0.14  ...  0.61  12.1    6.   ]\n",
      " [10.4    0.55   0.23  ...  0.64  10.3    6.   ]] 320\n",
      "12\n"
     ]
    }
   ],
   "source": [
    "#划分数据集为1:4,使用numpy的random.shuffle()函数\n",
    "np.random.shuffle(data)\n",
    "train_data = data[:int(len(data)*0.8)]\n",
    "test_data = data[int(len(data)*0.8):]\n",
    "print(train_data,len(train_data))\n",
    "print(test_data,len(test_data))\n",
    "n = train_data.shape[1]\n",
    "print(n)"
   ]
  },
  {
   "cell_type": "code",
   "execution_count": 5,
   "id": "a14054c2ea798d6",
   "metadata": {
    "ExecuteTime": {
     "end_time": "2023-10-20T09:10:10.555407600Z",
     "start_time": "2023-10-20T09:10:10.201717200Z"
    },
    "collapsed": false
   },
   "outputs": [
    {
     "name": "stdout",
     "output_type": "stream",
     "text": [
      "11\n"
     ]
    }
   ],
   "source": [
    "#定义feature项为前8列，label项为最后一列\n",
    "train_feature = train_data[:,:-1]\n",
    "#再次切分出train_feature的前8列为train_feature1\n",
    "train_label = train_data[:,-1]\n",
    "test_feature = test_data[:,:-1]\n",
    "test_label = test_data[:,-1]\n",
    "#print(train_feature)\n",
    "#获取列数\n",
    "n = train_feature.shape[1]\n",
    "print(n)"
   ]
  },
  {
   "cell_type": "code",
   "execution_count": null,
   "id": "4fd1a998",
   "metadata": {},
   "outputs": [],
   "source": [
    "#给前8列添加一个标签，用于后续的决策树的构建\n",
    "feature_label = ['fixed acidity','volatile acidity','citric acid','residual sugar','chlorides','free sulfur dioxide','total sulfur dioxide','density']"
   ]
  },
  {
   "cell_type": "code",
   "execution_count": 8,
   "id": "8763cb594169f334",
   "metadata": {
    "ExecuteTime": {
     "end_time": "2023-10-20T09:10:10.556911200Z",
     "start_time": "2023-10-20T09:10:10.248590200Z"
    },
    "collapsed": false
   },
   "outputs": [
    {
     "name": "stdout",
     "output_type": "stream",
     "text": [
      "[[0. 0. 0. ... 0. 0. 0.]\n",
      " [0. 0. 0. ... 0. 0. 0.]\n",
      " [0. 0. 0. ... 0. 0. 0.]\n",
      " ...\n",
      " [0. 0. 0. ... 0. 0. 0.]\n",
      " [0. 0. 0. ... 0. 0. 0.]\n",
      " [0. 0. 0. ... 0. 0. 0.]]\n",
      "(1279, 10)\n",
      "[[0. 0. 0. ... 0. 0. 0.]\n",
      " [0. 0. 0. ... 0. 0. 0.]\n",
      " [0. 0. 0. ... 0. 0. 0.]\n",
      " ...\n",
      " [0. 0. 0. ... 0. 0. 0.]\n",
      " [0. 0. 0. ... 0. 0. 0.]\n",
      " [0. 0. 0. ... 0. 0. 0.]]\n",
      "(320, 10)\n"
     ]
    }
   ],
   "source": [
    "#定义一个新的numpy数组,将train_label转换为one-hot编码,打印数据的形状\n",
    "train_label1 = np.zeros((len(train_label),10))\n",
    "for i in range(len(train_label)):\n",
    "    train_label1[i][int(train_label[i])] = 1\n",
    "print(train_label1)\n",
    "print(train_label1.shape)\n",
    "#定义一个新的numpy数组,将test_label转换为one-hot编码\n",
    "test_label1 = np.zeros((len(test_label),10))\n",
    "for i in range(len(test_label)):\n",
    "    test_label1[i][int(test_label[i])] = 1\n",
    "print(test_label1)\n",
    "print(test_label1.shape)"
   ]
  },
  {
   "cell_type": "code",
   "execution_count": 9,
   "id": "7eaec8e1c65f2da5",
   "metadata": {
    "ExecuteTime": {
     "end_time": "2023-10-20T09:10:10.556911200Z",
     "start_time": "2023-10-20T09:10:10.262166600Z"
    },
    "collapsed": false
   },
   "outputs": [
    {
     "name": "stdout",
     "output_type": "stream",
     "text": [
      "[0. 0. 0. ... 0. 0. 0.]\n",
      "(1279,)\n"
     ]
    }
   ],
   "source": [
    "#取出train_label1中的第一列\n",
    "print(train_label1[:,0])\n",
    "#返回train_label1中的第一列的形状\n",
    "print(train_label1[:,0].shape)"
   ]
  },
  {
   "cell_type": "code",
   "execution_count": 15,
   "id": "63d67575968484f1",
   "metadata": {
    "ExecuteTime": {
     "end_time": "2023-10-20T09:10:10.559919100Z",
     "start_time": "2023-10-20T09:10:10.357687200Z"
    },
    "collapsed": false
   },
   "outputs": [
    {
     "name": "stdout",
     "output_type": "stream",
     "text": [
      "[[-0.41965847  2.36949956 -1.24495856 ... -0.72639127 -0.57948219\n",
      "  -0.77508878]\n",
      " [-0.93858517  0.06172234 -0.72826258 ...  1.98453547 -0.10453331\n",
      "  -0.58597121]\n",
      " [-0.88092664  1.58147807 -1.14161936 ...  1.32333383  0.0142039\n",
      "   0.35961665]\n",
      " ...\n",
      " [-1.2845363  -1.17659715 -0.10822741 ...  0.72825235  1.85463078\n",
      "   0.17049908]\n",
      " [-0.07370734 -1.06402265  0.51180777 ... -0.52803077  0.90473304\n",
      "   1.49432208]\n",
      " [-0.65029256  2.65093581 -1.39996735 ...  0.79437251 -1.17316828\n",
      "  -0.39685364]]\n",
      "[[-1.63585883  1.17826167 -0.90785083 ...  2.13111561 -0.57839077\n",
      "   1.06208265]\n",
      " [ 1.76406426  0.4182023   1.09741071 ... -1.00044248 -0.17477852\n",
      "   0.05827053]\n",
      " [ 0.17743349  0.87966692 -0.85771929 ... -0.03688614 -0.05946073\n",
      "  -0.80865811]\n",
      " ...\n",
      " [-0.16255882  1.66687125 -0.00548314 ... -0.15733068 -1.03966192\n",
      "  -0.580519  ]\n",
      " [-0.6158819   0.03817262 -0.65719314 ...  0.20400294 -0.29009631\n",
      "   1.51836089]\n",
      " [ 1.19741042  0.14675253 -0.20600929 ... -0.57888658 -0.11711963\n",
      "  -0.12424076]]\n",
      "(1279, 11)\n",
      "(320, 11)\n"
     ]
    }
   ],
   "source": [
    "\n",
    "#将训练集和测试集标准化\n",
    "train_feature = (train_feature - np.mean(train_feature,axis=0))/np.std(train_feature,axis=0)\n",
    "test_feature = (test_feature - np.mean(test_feature,axis=0))/np.std(test_feature,axis=0)\n",
    "print(train_feature)\n",
    "print(test_feature)\n",
    "#打印数据的形状\n",
    "print(train_feature.shape)\n",
    "print(test_feature.shape)"
   ]
  },
  {
   "cell_type": "code",
   "execution_count": null,
   "id": "4b4f9ecf",
   "metadata": {},
   "outputs": [],
   "source": []
  }
 ],
 "metadata": {
  "kernelspec": {
   "display_name": "Python 3",
   "language": "python",
   "name": "python3"
  },
  "language_info": {
   "codemirror_mode": {
    "name": "ipython",
    "version": 3
   },
   "file_extension": ".py",
   "mimetype": "text/x-python",
   "name": "python",
   "nbconvert_exporter": "python",
   "pygments_lexer": "ipython3",
   "version": "3.10.9"
  }
 },
 "nbformat": 4,
 "nbformat_minor": 5
}
